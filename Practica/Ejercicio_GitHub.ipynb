{
 "cells": [
  {
   "cell_type": "markdown",
   "metadata": {},
   "source": [
    "# Ejercicio GitHub."
   ]
  },
  {
   "cell_type": "markdown",
   "metadata": {},
   "source": [
    "## Ejercicio grupal.\n",
    "\n",
    "1. Se tiene que elegir a un líder por grupo.\n",
    "2. El líder tiene que clonar el repositorio de la entrega y crear una branch para su equipo.\n",
    "3. En esa branch, se creara un Jupiter Notebook con el nombre del equipo.\n",
    "4. Una vez creado cada miembro del equipo tendrá que crearse una branch propia para poder trabajar individualmente en el Jupiter Notebook del equipo.\n",
    "5. Cada miembro del equipo tendra que hacer web scrapping de los siguientes temas:\n",
    "    - Dataframe con los 14 picos de más de 8000 metros de altura, con su nombre, altura y localización.\n",
    "    - Dataframe con los 10 libros más vendidos, con el nombre, autor y publicación.\n",
    "    - Dataframe con los 10 libros más vendidos de la historia, con título, desarrollador y fecha de lanzamiento.\n",
    "    - Dataframe con los anillos de la NBA que tiene cada equipo, con nombre, número de campeonatos y años campeón.\n",
    "6. Mergear los archivos jupiter a la branch del equipo.\n"
   ]
  }
 ],
 "metadata": {
  "kernelspec": {
   "display_name": "Python 3",
   "language": "python",
   "name": "python3"
  },
  "language_info": {
   "codemirror_mode": {
    "name": "ipython",
    "version": 3
   },
   "file_extension": ".py",
   "mimetype": "text/x-python",
   "name": "python",
   "nbconvert_exporter": "python",
   "pygments_lexer": "ipython3",
   "version": "3.11.5"
  }
 },
 "nbformat": 4,
 "nbformat_minor": 2
}
