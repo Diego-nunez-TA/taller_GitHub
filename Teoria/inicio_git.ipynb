{
 "cells": [
  {
   "cell_type": "markdown",
   "metadata": {},
   "source": [
    "# **Taller de GitHub** "
   ]
  },
  {
   "cell_type": "markdown",
   "metadata": {},
   "source": [
    "<a id=\"0\"></a> <br>\n",
    "INDICE  \n",
    "  \n",
    "[1. Introducción a GitHub y contenido del taller.](#20)\n",
    "  - [¿Que es Git?,¿que es Git Hub?, diferencias entre ambas](#1)  \n",
    "  - [Primeros pasos en Git Hub, configuración en VSC y creación de repositorio.](#2)  \n",
    "  - [Clonar repositorio en VSC](#3)  \n",
    "  - [Como añadir nueva información a mi repositorio](#4)  \n",
    "  - [Utilización y creación de ramas (branch)](#5)  \n",
    "  - [Juntar ramas y actualizar cambios](#6)\n",
    "  - [Pull Request, ¿que es y para que sirve?](#65)  \n",
    "  - [Resolución de conflictos](#7)\n",
    "    \n",
    "[2. Resumen de lista comandos básicos.](#8)  \n",
    "[3. Enlaces a repositorios.](#9)  \n",
    "[4. Ejercicio practico en grupos.](#10)  \n",
    "\n"
   ]
  },
  {
   "cell_type": "markdown",
   "metadata": {},
   "source": [
    "<a id=\"20\"></a> <br>  \n",
    "\n",
    "# 1. Introducción a GitHub y contenido del taller."
   ]
  },
  {
   "cell_type": "markdown",
   "metadata": {},
   "source": [
    "<a id=\"1\"></a> <br>    \n",
    "## - ¿Que es Git?,¿que es Git Hub?, diferencias entre ambas"
   ]
  },
  {
   "cell_type": "markdown",
   "metadata": {},
   "source": [
    "* Git es un sistema de control de versiones distribuido. Es una herramienta que permite a los desarrolladores rastrear los cambios en su código fuente a lo largo del tiempo.  \n",
    "* GitHub, por otro lado, es una plataforma en línea que utiliza Git como motor subyacente.  \n",
    "* En resumen, Git es el sistema de control de versiones que te permite rastrear los cambios en tu código en tu computadora local, mientras que GitHub es una plataforma en línea que utiliza Git para alojar repositorios en la nube, facilitando la colaboración y la gestión de proyectos de software.  "
   ]
  },
  {
   "cell_type": "markdown",
   "metadata": {},
   "source": [
    "[Volver al indice](#0)"
   ]
  },
  {
   "cell_type": "markdown",
   "metadata": {},
   "source": [
    "<a id=\"2\"></a> <br>\n",
    "## - Primeros pasos en Git Hub, configuración en VSC y creación de repositorio."
   ]
  },
  {
   "cell_type": "markdown",
   "metadata": {},
   "source": [
    "*  Primero necesitamos configurar tu cuenta de github en el VSC, para ello entramos en la consola de VSC y ejecutamos lo siguiente(cambiando los valores de \"Tu Nombre\" por tu nombre de usuario en Github y \"tu@email. com\" por tu email)"
   ]
  },
  {
   "cell_type": "markdown",
   "metadata": {},
   "source": [
    "![cfg_1](../img/git_config.png)"
   ]
  },
  {
   "cell_type": "markdown",
   "metadata": {},
   "source": [
    "* Ahora crearemos nuestro repositorio, tenemos que iniciar sesión en github, hacer click en \"Repositories \" para después hacer click en \"New\"."
   ]
  },
  {
   "cell_type": "markdown",
   "metadata": {},
   "source": [
    "1. Accedemos a la pestaña de Repositorios.\n",
    "2. Hacemos click en \"New\"."
   ]
  },
  {
   "cell_type": "markdown",
   "metadata": {},
   "source": [
    "![cfg_2](../img/github1.png)"
   ]
  },
  {
   "cell_type": "markdown",
   "metadata": {},
   "source": [
    "* Esta es la pantalla de creación de repositorio."
   ]
  },
  {
   "cell_type": "markdown",
   "metadata": {},
   "source": [
    "1. Asignamos un nombre a nuestro repositorio.\n",
    "2. Asignamos si el repositorio en Público o Privado.\n",
    "3. ¡IMPORTANTE!! Siempre añadir un \"README.md\".\n",
    "4. Creamos el repositorio."
   ]
  },
  {
   "cell_type": "markdown",
   "metadata": {},
   "source": [
    "![cfg_3](../img/github2.png) "
   ]
  },
  {
   "cell_type": "markdown",
   "metadata": {},
   "source": [
    "[Volver al indice](#0)"
   ]
  },
  {
   "cell_type": "markdown",
   "metadata": {},
   "source": [
    "<a id=\"3\"></a> <br>\n",
    "## - Clonar repositorio en VSC"
   ]
  },
  {
   "cell_type": "markdown",
   "metadata": {},
   "source": [
    "* Primero entra en el repositorio y haz click en code.\n",
    "* Después haz click en el icono indicado y copia el enlace."
   ]
  },
  {
   "cell_type": "markdown",
   "metadata": {},
   "source": [
    "![cln_1](../img/clonar_1.png)"
   ]
  },
  {
   "cell_type": "markdown",
   "metadata": {},
   "source": [
    "* Antes de hacer el git clone debes añadir un espacio de trabajo nuevo."
   ]
  },
  {
   "cell_type": "markdown",
   "metadata": {},
   "source": [
    "![cln_3](../img/clonar_2.png)"
   ]
  },
  {
   "cell_type": "markdown",
   "metadata": {},
   "source": [
    "* Seleccionas una carpeta que esté vacia para tu espacio de trabajo."
   ]
  },
  {
   "cell_type": "markdown",
   "metadata": {},
   "source": [
    "![cln_4](../img/carpeta_repo.png)"
   ]
  },
  {
   "cell_type": "markdown",
   "metadata": {},
   "source": [
    "* En VSC, click derecho y selecionais la opcion de \"Abrir en terminal integrado\"."
   ]
  },
  {
   "cell_type": "markdown",
   "metadata": {},
   "source": [
    "![cln_5](../img/abrir_terminal.png)"
   ]
  },
  {
   "cell_type": "markdown",
   "metadata": {},
   "source": [
    "* En la consola del VSC, dentro de tu carpeta que está alojada en tu espacio de trabajo nuevo, escribe \"git clone link-del-repositorio\""
   ]
  },
  {
   "cell_type": "markdown",
   "metadata": {},
   "source": [
    "![cln_5](../img/git_clone.png)"
   ]
  },
  {
   "cell_type": "markdown",
   "metadata": {},
   "source": [
    "[Volver al indice](#0)"
   ]
  },
  {
   "cell_type": "markdown",
   "metadata": {},
   "source": [
    "<a id=\"4\"></a> <br>\n",
    "## - Como añadir nueva información a mi repositorio"
   ]
  },
  {
   "cell_type": "markdown",
   "metadata": {},
   "source": [
    "En este momento ya habéis clonado un repositorio en la carpeta seleccionada. El siguiente paso es poder subir vuestros cambios al repositorio de GitHub. Para ello lo más importante es que una vez finalizados los cambios, guardéis todos los documentos que habéis creado o modificado."
   ]
  },
  {
   "cell_type": "markdown",
   "metadata": {},
   "source": [
    "Siempre que se suben modificaciones al repositorio, es necesario seguir 3 pasos:\n",
    "1. **Add**: Es la selección de los archivos que quieres subir al repositorio.\n",
    "2. **Commit**: Se añade el comentario de versión.\n",
    "3. **Push**: Se sube al repositorio."
   ]
  },
  {
   "cell_type": "markdown",
   "metadata": {},
   "source": [
    "  - ### Desde Terminal:   "
   ]
  },
  {
   "cell_type": "markdown",
   "metadata": {},
   "source": [
    "Para añadir información desde terminal, accedemos a la terminal integrado como en el paso anterior.\n",
    "\n",
    "1. **Add**:\n",
    "\n",
    "- En caso de querer subir todos los cambios, ejecutamos el siguiente comando: **\"git add .\"** (cuidado no olvidar el punto del final de la instrucción).\n",
    "- En caso de solo subir los cambios de un archivo, ejecutamos el siguiente comando: **\"git add nombre_del_archivo.extension\"**."
   ]
  },
  {
   "cell_type": "markdown",
   "metadata": {},
   "source": [
    "![add_1](../img/git_add.png)\n",
    "![add_2](../img/git_add_2.png)"
   ]
  },
  {
   "cell_type": "markdown",
   "metadata": {},
   "source": [
    "Para comprobar que archivos estan seleccionados, ejecutamos el siguiente comando: **\"git status\"**."
   ]
  },
  {
   "cell_type": "markdown",
   "metadata": {},
   "source": [
    "![add_2](../img/git_status.png)"
   ]
  },
  {
   "cell_type": "markdown",
   "metadata": {},
   "source": [
    "Si queremos eliminar un archivo de la lista de seleccionados, ejecutamos el siguiente comando: **\"git reset HEAD nombre_del_archivo.extension\"**.<br>\n",
    "En caso de querer eliminar todos los archivos seleccionados, ejecutamos: **\"git reset\"**."
   ]
  },
  {
   "cell_type": "markdown",
   "metadata": {},
   "source": [
    "![add_2](../img/git_reset_1.png)\n",
    "![add_2](../img/git_reset_2.png)"
   ]
  },
  {
   "cell_type": "markdown",
   "metadata": {},
   "source": [
    "2. **Commit**:\n",
    "\n",
    "Una vez has seleccionada la información que quieres subir a tu repositorio, ejecutamos el siguiente comando: **git commit -m \"mensaje que quieras añadir\"**"
   ]
  },
  {
   "cell_type": "markdown",
   "metadata": {},
   "source": [
    "![add_2](../img/git_commit.png)"
   ]
  },
  {
   "cell_type": "markdown",
   "metadata": {},
   "source": [
    "3. **Push**:\n",
    "\n",
    "Ya tenemos la información preparada y con un mensaje de los cambios que hemos hecho, los vamos a mandar a nuestro repositorio de Github con el comando: **\"git push\"**"
   ]
  },
  {
   "cell_type": "markdown",
   "metadata": {},
   "source": [
    "![add_3](../img/git_push.png)"
   ]
  },
  {
   "cell_type": "markdown",
   "metadata": {},
   "source": [
    "* ### Desde interface de VSC"
   ]
  },
  {
   "cell_type": "markdown",
   "metadata": {},
   "source": [
    "Vamos añadir los archivos que aparacen en la pestaña de \"Source code\""
   ]
  },
  {
   "cell_type": "markdown",
   "metadata": {},
   "source": [
    "![add_infc_1](../img_2/add_1_ejemplo_infc.png)"
   ]
  },
  {
   "cell_type": "markdown",
   "metadata": {},
   "source": [
    "Después solo hay que hacer commit & push haciendo click"
   ]
  },
  {
   "cell_type": "markdown",
   "metadata": {},
   "source": [
    "![add_infc_2](../img_2/add_2_ejemplo_infc.png)"
   ]
  },
  {
   "cell_type": "markdown",
   "metadata": {},
   "source": [
    "[Volver al indice](#0)"
   ]
  },
  {
   "cell_type": "markdown",
   "metadata": {},
   "source": [
    "<a id=\"5\"></a> <br>\n",
    "#### - Utilización y creación de ramas (branch)"
   ]
  },
  {
   "cell_type": "markdown",
   "metadata": {},
   "source": [
    "* ¿Que es una rama?"
   ]
  },
  {
   "cell_type": "markdown",
   "metadata": {},
   "source": [
    "Las ramas son importantes en el desarrollo de proyectos en Github. Usando ramas, varias personas pueden trabajar en paralelo en el mismo proyecto simultáneamente. Podemos usar el comando git branch para crearlas, listarlas y eliminarlas."
   ]
  },
  {
   "cell_type": "markdown",
   "metadata": {},
   "source": [
    "![branch_git](../img_2/git_branch_merge_1.png)"
   ]
  },
  {
   "cell_type": "markdown",
   "metadata": {},
   "source": [
    "### - ¿Como crear una rama por terminal?"
   ]
  },
  {
   "cell_type": "markdown",
   "metadata": {},
   "source": [
    "Por terminal podemos utilizar los comandos siguientes para crear, listar y eliminar una branch en local.  \n",
    "- Con el siguiente comando creamos una branch en nuestro ordenador de manera local. \n",
    "\n",
    "git branch nombre-de-tu-branch  \n",
    "\n",
    "- Con el siguiente comando vemos las ramas que tenemos actualmente en el repositorio. \n",
    "\n",
    "git branch --list \n",
    " \n",
    "- Con el siguiente comando nos moveremos a la branch que has creado para poder trabajar en ella. \n",
    "\n",
    "git checkout nombre-de-tu-branch que has creado anteriormente>\n",
    "\n",
    "- Con el siguiente comando podremos borrar la branch que hemos creado anteriormente(tienes que estar fuera de la branch que quieres borrar porque dará error). \n",
    " \n",
    "git branch -d nombre-de-tu-branch\n",
    "  "
   ]
  },
  {
   "cell_type": "markdown",
   "metadata": {},
   "source": [
    "![branch_1](../img_2/branch_1.png)"
   ]
  },
  {
   "cell_type": "markdown",
   "metadata": {},
   "source": [
    "Al finalizar de crear la rama si quieres subir tu rama al repositorio deberás hacer dentro de la rama creada \" git push \" , en caso contrario no se subiran los cambios."
   ]
  },
  {
   "cell_type": "markdown",
   "metadata": {},
   "source": [
    "### - ¿Como crear una rama con la interface de VSC?"
   ]
  },
  {
   "cell_type": "markdown",
   "metadata": {},
   "source": [
    "* En la parte inferior izquierda del VSC podeis encontrar lo siguiente:"
   ]
  },
  {
   "cell_type": "markdown",
   "metadata": {},
   "source": [
    "![brn_infc_1](../img_2/branch_1_intf.jpg)"
   ]
  },
  {
   "cell_type": "markdown",
   "metadata": {},
   "source": [
    "* Al hacer click, en la parte superior se abrira un panel donde podremos crear una rama, en la misma rama donde estamos o desde otra rama concreta que queramos."
   ]
  },
  {
   "cell_type": "markdown",
   "metadata": {},
   "source": [
    "![brc_infc_2](../img_2/branch_2_intf.jpg)"
   ]
  },
  {
   "cell_type": "markdown",
   "metadata": {},
   "source": [
    "* Una vez creada (en este caso se llama santi_prueba_2, ya aparecerá para ser selccionada y poder trabajar)"
   ]
  },
  {
   "cell_type": "markdown",
   "metadata": {},
   "source": [
    "![brn_infc_3](../img_2/branch_3_intf.jpg)"
   ]
  },
  {
   "cell_type": "markdown",
   "metadata": {},
   "source": [
    "* También desde el menu de Source Control lo podemos hacer:"
   ]
  },
  {
   "cell_type": "markdown",
   "metadata": {},
   "source": [
    "![brn_sc_1](../img_2/branch_1_int_sc.png)"
   ]
  },
  {
   "cell_type": "markdown",
   "metadata": {},
   "source": [
    "* En la siguiente imagen ya estamos haciendo el push de la rama a nuestro repositorio haciendo click en \"Publish Branch\""
   ]
  },
  {
   "cell_type": "markdown",
   "metadata": {},
   "source": [
    "![brnc_sc_2](../img_2/branch_2_int_sc.png)"
   ]
  },
  {
   "cell_type": "markdown",
   "metadata": {},
   "source": [
    "* Una vez ya está la rama creada de una u otra manera, podemos directamente posicionarnos sobre ella y empezar a trabajar"
   ]
  },
  {
   "cell_type": "markdown",
   "metadata": {},
   "source": [
    "![brnc_sc_3](../img_2/branch_3_int_sc.png)"
   ]
  },
  {
   "cell_type": "markdown",
   "metadata": {},
   "source": [
    "[Volver al indice](#0)"
   ]
  },
  {
   "cell_type": "markdown",
   "metadata": {},
   "source": [
    "<a id=\"6\"></a> <br>\n",
    "#### - Juntar ramas y actualizar cambios\n",
    "- Una vez realizado el desarrollo de tu parte del proyecto en tu rama, queda fusionar la rama con la rama padre (dev o main), tienes que estar en esa rama para poder fusionar los archivos con tu rama."
   ]
  },
  {
   "cell_type": "markdown",
   "metadata": {},
   "source": [
    "![merge_1](../img_2/merge_1.png)"
   ]
  },
  {
   "cell_type": "markdown",
   "metadata": {},
   "source": [
    "- De la misma manera podemos hacer el merge desde la interface. (Siempre tener en cuenta desde donde estamos haciendo el merge y que queremos obtener de ello, aún así recomendable hacerlo por terminal)"
   ]
  },
  {
   "cell_type": "markdown",
   "metadata": {},
   "source": [
    "![merge_2](../img_2/merge_2.png)"
   ]
  },
  {
   "cell_type": "markdown",
   "metadata": {},
   "source": [
    "[Volver al indice](#0)"
   ]
  },
  {
   "cell_type": "markdown",
   "metadata": {},
   "source": [
    "<a id=\"7\"></a> <br>\n",
    "#### - Resolución de conflictos"
   ]
  },
  {
   "cell_type": "markdown",
   "metadata": {},
   "source": [
    "- Hay veces que el código de un compañer@ entra en conflicto con el código tuyo y al intentar mezclarlos, hay que revisarlos."
   ]
  },
  {
   "cell_type": "markdown",
   "metadata": {},
   "source": [
    "![merge_3](../img_2/conflictos%20merge.png)"
   ]
  },
  {
   "cell_type": "markdown",
   "metadata": {},
   "source": [
    "- Al ver el source control observamos que hay conflictos en el archivo que tendremos que resolver"
   ]
  },
  {
   "cell_type": "markdown",
   "metadata": {},
   "source": [
    "![merge_4](../img_2/conflictos%20merge_2.png)"
   ]
  },
  {
   "cell_type": "markdown",
   "metadata": {},
   "source": [
    "- Si pulsamos sobre \"Resolve in merge editor\" obtendremos la siguiente pantalla"
   ]
  },
  {
   "cell_type": "markdown",
   "metadata": {},
   "source": [
    "![merge_5](../img_2/conflictos%20merge_3.png)"
   ]
  },
  {
   "cell_type": "markdown",
   "metadata": {},
   "source": [
    "- Resolveremos los conflictos y nos dispondremos a hacer el commit"
   ]
  },
  {
   "cell_type": "markdown",
   "metadata": {},
   "source": [
    "![merge_5](../img_2/conflictos%20merge_4.png)"
   ]
  },
  {
   "cell_type": "markdown",
   "metadata": {},
   "source": [
    "- Sincronizamos los cambios y clickamos mas tarde \"OK\""
   ]
  },
  {
   "cell_type": "markdown",
   "metadata": {},
   "source": [
    "![merge_5](../img_2/conflictos%20merge_5.png)"
   ]
  },
  {
   "cell_type": "markdown",
   "metadata": {},
   "source": [
    "![merge_5](../img_2/conflictos%20merge_6.png)"
   ]
  },
  {
   "cell_type": "markdown",
   "metadata": {},
   "source": [
    "[Volver al indice](#0)"
   ]
  },
  {
   "cell_type": "markdown",
   "metadata": {},
   "source": [
    "<a id=\"65\"></a> <br>\n",
    "#### - Pull Request, ¿que es y para que sirve?"
   ]
  },
  {
   "cell_type": "markdown",
   "metadata": {},
   "source": [
    "* Los Pull Requests son una parte fundamental del flujo de trabajo colaborativo en el desarrollo de software. Permiten a los desarrolladores revisar, discutir y aprobar los cambios antes de que se integren en el código base principal, lo que contribuye a mantener un alto nivel de calidad y a prevenir problemas.\n"
   ]
  },
  {
   "cell_type": "markdown",
   "metadata": {},
   "source": [
    "* Primero antes de hacer un pull request necesitamos tener todo el trabajo listo en nuestra rama, ahora seguiremos los siguiente pasos en la web."
   ]
  },
  {
   "cell_type": "markdown",
   "metadata": {},
   "source": [
    "![pull_1](../img_2/pull_request_1.png)\n"
   ]
  },
  {
   "cell_type": "markdown",
   "metadata": {},
   "source": [
    "![pull_1_1](../img_2/pull_request_1_1.png)"
   ]
  },
  {
   "cell_type": "markdown",
   "metadata": {},
   "source": [
    "![pull_1_1](../img_2/pull_request_2.png)"
   ]
  },
  {
   "cell_type": "markdown",
   "metadata": {},
   "source": [
    "![pull_1_1](../img_2/pull_request_2_1.png)"
   ]
  },
  {
   "cell_type": "markdown",
   "metadata": {},
   "source": [
    "![pull_1_1](../img_2/pull_request_3.png)"
   ]
  },
  {
   "cell_type": "markdown",
   "metadata": {},
   "source": [
    "![pull_1_1](../img_2/pull_request_4.png)"
   ]
  },
  {
   "cell_type": "markdown",
   "metadata": {},
   "source": [
    "* Una vez hecho el merge de ramas podemos borrar la rama que hemos mezclado con la principal\n",
    "        "
   ]
  },
  {
   "cell_type": "markdown",
   "metadata": {},
   "source": [
    "![pull_1_1](../img_2/pull_request_5.png)"
   ]
  },
  {
   "cell_type": "markdown",
   "metadata": {},
   "source": [
    "[Volver al indice](#0)"
   ]
  },
  {
   "cell_type": "markdown",
   "metadata": {},
   "source": [
    "<a id=\"8\"></a> <br>\n",
    "### 2. Resumen de lista comandos básicos."
   ]
  },
  {
   "cell_type": "markdown",
   "metadata": {},
   "source": [
    "En este apartado tendras acceso a los comandos básicos de terminal:  \n",
    "  \n",
    "- Clonar el repositorio.  \n",
    "\n",
    "**git clone link-del-repositorio**  \n",
    "\n",
    "- Añadir un archivo concreto al repositorio. \n",
    "\n",
    "**git add archivo**  \n",
    "\n",
    "- Añadir todos los archivos que han cambiado al repositorio.  \n",
    "\n",
    "**git add -A (también puede añadir cambios de esta manera: \" git add . \")**  \n",
    "\n",
    "- Commit de los archivos añadidos anteriomente.  \n",
    "\n",
    "**git commit -m \"mensaje-para-dejar-claro-los-cambios que-estás-haciendo\"**  \n",
    "\n",
    "- Confirmar subida de archivos a repositorio.  \n",
    "\n",
    "**git push**  \n",
    "\n",
    "- Actualizar los cambios de un repositorio a tu ordenador local.  \n",
    "\n",
    "**git pull**  \n",
    "\n",
    "- Ver ramas actuales.  \n",
    "\n",
    "**git branch --list**  \n",
    "\n",
    "- Crear una rama.  \n",
    "\n",
    "**git branch nombre-de-tu-rama**  \n",
    "\n",
    "- Borrar una rama.  \n",
    "\n",
    "**git branch -d**  \n",
    "\n",
    "- Vemos las ramas creadas remotamente por otros usuarios.  \n",
    "\n",
    "**git branch -a**\n",
    "\n",
    "- Cambiarte a la rama que quieras.  \n",
    "\n",
    "**git checkout nombre-de-tu-rama**  \n",
    "\n",
    "- Crear una rama y a la vez cambiarte a la misma.  \n",
    "\n",
    "**git checkout -b nombre-de-la-rama-que-quieres-crear**  \n",
    "\n",
    "- Muestra los cambios en el repositorio en orden cronologico inverso, primero la más actual a la más antigua (si quieres salir pulsa \"q\").  \n",
    "\n",
    "**git log**  \n",
    "\n",
    "- Muestra los cambios en el repositorio en orden cronologico inverso, pero en este caso solo el código de cada commit.  \n",
    "\n",
    "**git log --oneline**  \n",
    "\n",
    "- Muestra información de la rama actual donde estamos trabajando.  \n",
    "\n",
    "**git status**  \n",
    "\n",
    "- Deshacer un commit que nosotros queramos.  \n",
    "\n",
    "**git revert el-código-de-commit-que-quieres-deshacer**"
   ]
  },
  {
   "cell_type": "markdown",
   "metadata": {},
   "source": [
    "Toda la información relativa a la practica grupal la teneis en el siguiente [enlace](https://github.com/svalencia-romero/taller_git_thebridge_09_23/blob/main/Practica/Ejercicio_practico.pdf)."
   ]
  }
 ],
 "metadata": {
  "language_info": {
   "name": "python"
  }
 },
 "nbformat": 4,
 "nbformat_minor": 2
}
