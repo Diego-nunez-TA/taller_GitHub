{
 "cells": [
  {
   "cell_type": "markdown",
   "metadata": {},
   "source": [
    "# Taller de GitHub."
   ]
  },
  {
   "cell_type": "markdown",
   "metadata": {},
   "source": [
    "# ¡¡¡IMAGEN BANNER GITHUB!!!"
   ]
  },
  {
   "cell_type": "markdown",
   "metadata": {},
   "source": [
    "## ¿Que vamos a ver?\n",
    "\n",
    "1- Introducción.\n",
    "\n",
    "2- Primeros pasos.\n",
    "\n",
    "3- Ejemplo."
   ]
  },
  {
   "cell_type": "markdown",
   "metadata": {},
   "source": [
    "## 1- Introducción.\n",
    "\n",
    "### ¿Que es Git?\n",
    "\n",
    "Git es un sistema de control de versiones que permite administar los cambio de un codigo fuente. Esto permite a los desarrolladores trabajar simultaneamente en un mismo proyecto sin sobrescribir los cambios de los demas.\n",
    "\n",
    "Su uso, comunmente se realiza a traves de comandos en consola.\n",
    "\n",
    "Algunas características clave de Git incluyen:\n",
    "\n",
    "- **Distribución**: Cada desarrollador tiene una copia completa del repositorio, incluidas todas las versiones anteriores del proyecto.\n",
    "- **Ramas**: Permite la creación de ramas para desarrollar nuevas características de manera aislada, lo que facilita la experimentación y el manejo de diferentes versiones del proyecto.\n",
    "- **Fusión**: Combina cambios de diferentes ramas de manera eficiente y efectiva.\n",
    "- **Historial de cambios**: Mantiene un registro detallado de todos los cambios realizados, permitiendo revertir a versiones anteriores si es necesario."
   ]
  },
  {
   "cell_type": "markdown",
   "metadata": {},
   "source": [
    "### Difrencias entre Git y GitHub.\n",
    "\n",
    "Muchas veces nos referimos erroneamente entre Git y GitHub como lo mismo.\n",
    "\n",
    "**GIT** es el sistema de control de versiones.\n",
    "\n",
    "**GITHUB** es un portal que nos permite alojar proyectos utilizando en sistema de control de versiones de Git."
   ]
  },
  {
   "cell_type": "markdown",
   "metadata": {},
   "source": [
    "## 2- Primeros pasos."
   ]
  },
  {
   "cell_type": "markdown",
   "metadata": {},
   "source": [
    "### - Configuración de Visual Studio Code."
   ]
  },
  {
   "cell_type": "markdown",
   "metadata": {},
   "source": [
    "* Primero necesitamos configurar tu cuenta de github en el VSC, para ello entramos en la consola de VSC y ejecutamos lo siguiente(cambiando los valores de \"Tu Nombre\" por tu nombre de usuario en Github y \"tu@email. com\" por tu email)"
   ]
  },
  {
   "cell_type": "markdown",
   "metadata": {},
   "source": [
    "![cfg_1](../img/git_config.png)"
   ]
  },
  {
   "cell_type": "markdown",
   "metadata": {},
   "source": [
    "* Ahora crearemos nuestro repositorio, tenemos que iniciar sesión en github, hacer click en \"Repositories \" para después hacer click en \"New\"."
   ]
  },
  {
   "cell_type": "markdown",
   "metadata": {},
   "source": [
    "![cfg_1](../img/github1.png)"
   ]
  },
  {
   "cell_type": "markdown",
   "metadata": {},
   "source": [
    "    1- Accedemos a la pestaña de Repositorios.\n",
    "\n",
    "    2- Hacemos click en \"New\"."
   ]
  },
  {
   "cell_type": "markdown",
   "metadata": {},
   "source": [
    "* Esta es la pantalla de creación de repositorio."
   ]
  },
  {
   "cell_type": "markdown",
   "metadata": {},
   "source": [
    "![cfg_1](../img/github2.png)"
   ]
  },
  {
   "cell_type": "markdown",
   "metadata": {},
   "source": [
    "    1- Asignamos un nombre a nuestro repositorio.\n",
    "    2- Asignamos si el repossitorio en Publico o Privado.\n",
    "    3- IMPORTANTE!! Siempre añadir un \"README.md\".\n",
    "    4- Creamos el repositorio."
   ]
  },
  {
   "cell_type": "markdown",
   "metadata": {},
   "source": [
    "<a id=\"3\"></a> <br>\n",
    "#### - Clonar repositorio en VSC"
   ]
  },
  {
   "cell_type": "markdown",
   "metadata": {},
   "source": [
    "* Primero entra en el repositorio y haz click en code"
   ]
  },
  {
   "cell_type": "markdown",
   "metadata": {},
   "source": []
  },
  {
   "cell_type": "code",
   "execution_count": 16,
   "metadata": {},
   "outputs": [],
   "source": [
    "import random\n",
    "alumnos = [\"Sebastian\", \"Natalie\", \"Alvaro\", \"Gabriel\", \"Alfonso\", \"Rafa\", \"Nacho\"]"
   ]
  },
  {
   "cell_type": "code",
   "execution_count": 20,
   "metadata": {},
   "outputs": [
    {
     "name": "stdout",
     "output_type": "stream",
     "text": [
      "Seleccionado:  Rafa\n",
      "['Natalie', 'Gabriel', 'Nacho']\n"
     ]
    }
   ],
   "source": [
    "\n",
    "alumno = random.choice(alumnos)\n",
    "alumnos.remove(alumno)\n",
    "\n",
    "print(\"Seleccionado: \", alumno)\n",
    "print(alumnos)\n"
   ]
  },
  {
   "cell_type": "markdown",
   "metadata": {},
   "source": [
    "# FUENTES"
   ]
  },
  {
   "cell_type": "markdown",
   "metadata": {},
   "source": [
    "Git es un sistema de control de versiones distribuido que permite a los desarrolladores rastrear y administrar los cambios en el código fuente de sus proyectos. Creado por Linus Torvalds en 2005, Git facilita la colaboración entre múltiples desarrolladores al permitirles trabajar simultáneamente en un proyecto sin sobrescribir los cambios de los demás. Algunas características clave de Git incluyen:\n",
    "\n",
    "Distribución: Cada desarrollador tiene una copia completa del repositorio, incluidas todas las versiones anteriores del proyecto.\n",
    "Ramas: Permite la creación de ramas para desarrollar nuevas características de manera aislada, lo que facilita la experimentación y el manejo de diferentes versiones del proyecto.\n",
    "Fusión: Combina cambios de diferentes ramas de manera eficiente y efectiva.\n",
    "Historial de cambios: Mantiene un registro detallado de todos los cambios realizados, permitiendo revertir a versiones anteriores si es necesario.\n",
    "Git es fundamental en el desarrollo de software moderno, ya que mejora la eficiencia y la colaboración en equipos de desarrollo."
   ]
  },
  {
   "cell_type": "markdown",
   "metadata": {},
   "source": [
    "SIMILARES A GITHUB:\n",
    "- BitBucket.\n",
    "\n",
    "- GitLab.\n",
    "\n",
    "- etc"
   ]
  }
 ],
 "metadata": {
  "kernelspec": {
   "display_name": "Python 3",
   "language": "python",
   "name": "python3"
  },
  "language_info": {
   "codemirror_mode": {
    "name": "ipython",
    "version": 3
   },
   "file_extension": ".py",
   "mimetype": "text/x-python",
   "name": "python",
   "nbconvert_exporter": "python",
   "pygments_lexer": "ipython3",
   "version": "3.11.4"
  }
 },
 "nbformat": 4,
 "nbformat_minor": 2
}
